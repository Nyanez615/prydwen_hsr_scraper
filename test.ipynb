{
 "cells": [
  {
   "cell_type": "code",
   "execution_count": 6,
   "metadata": {},
   "outputs": [
    {
     "name": "stderr",
     "output_type": "stream",
     "text": [
      "2025-02-20 23:25:46,718 INFO [scraper.main] Using Chromium browser.\n",
      "2025-02-20 23:25:47,122 INFO [scraper.main] Scraping from URL: https://www.prydwen.gg/star-rail/characters/; limit=2\n",
      "2025-02-20 23:25:49,724 INFO [scraper.main] Scraped: Acheron (avg_rating=0.5)\n",
      "2025-02-20 23:25:50,008 INFO [scraper.main] Scraped: Aglaea (avg_rating=1.0)\n"
     ]
    },
    {
     "name": "stdout",
     "output_type": "stream",
     "text": [
      "[{'name': 'Acheron', 'element': 'Lightning', 'path': 'Nihility', 'rarity': '5★', 'role': 'DPS', 'moc_rating': 0.5, 'pf_rating': 0.5, 'as_rating': 0.5, 'average_rating': 0.5}, {'name': 'Aglaea', 'element': 'Lightning', 'path': 'Remembrance', 'rarity': '5★', 'role': 'DPS', 'moc_rating': 0.5, 'pf_rating': 1.5, 'as_rating': 1.0, 'average_rating': 1.0}]\n",
      "All checks passed.\n"
     ]
    }
   ],
   "source": [
    "# test_scraper.ipynb\n",
    "\n",
    "import os\n",
    "from scraper.main import scrape_star_rail_characters\n",
    "\n",
    "# Set the environment variable for limit\n",
    "os.environ['SCRAPE_LIMIT'] = '2'\n",
    "\n",
    "# Call the function and print the results\n",
    "characters = scrape_star_rail_characters()\n",
    "print(characters)\n",
    "\n",
    "# Check required keys\n",
    "for char in characters:\n",
    "    assert \"name\" in char, \"Character entry missing 'name'\"\n",
    "    assert \"rarity\" in char, \"Character entry missing 'rarity'\"\n",
    "    assert \"element\" in char, \"Character entry missing 'element'\"\n",
    "    assert \"path\" in char, \"Character entry missing 'path'\"\n",
    "    assert \"role\" in char, \"Character entry missing 'role'\"\n",
    "    assert \"moc_rating\" in char, \"Character entry missing 'moc_rating'\"\n",
    "    assert \"pf_rating\" in char, \"Character entry missing 'pf_rating'\"\n",
    "    assert \"as_rating\" in char, \"Character entry missing 'as_rating'\"\n",
    "    assert \"average_rating\" in char, \"Character entry missing 'average_rating'\"\n",
    "\n",
    "print(\"All checks passed.\")"
   ]
  },
  {
   "cell_type": "code",
   "execution_count": 4,
   "metadata": {},
   "outputs": [
    {
     "data": {
      "text/plain": [
       "2"
      ]
     },
     "execution_count": 4,
     "metadata": {},
     "output_type": "execute_result"
    }
   ],
   "source": [
    "len(characters)"
   ]
  },
  {
   "cell_type": "code",
   "execution_count": null,
   "metadata": {},
   "outputs": [],
   "source": []
  }
 ],
 "metadata": {
  "kernelspec": {
   "display_name": "venv",
   "language": "python",
   "name": "python3"
  },
  "language_info": {
   "codemirror_mode": {
    "name": "ipython",
    "version": 3
   },
   "file_extension": ".py",
   "mimetype": "text/x-python",
   "name": "python",
   "nbconvert_exporter": "python",
   "pygments_lexer": "ipython3",
   "version": "3.9.6"
  }
 },
 "nbformat": 4,
 "nbformat_minor": 2
}
